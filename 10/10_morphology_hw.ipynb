{
 "cells": [
  {
   "cell_type": "markdown",
   "metadata": {},
   "source": [
    "## Zadanie domowe: morfologiczna gra w życie – John Conway\n",
    "\n",
    "### Wykorzystanie operacji LUT w przekształceniu trafi, nie trafi\n",
    "  - Szybszą metodą wykonania transformacji trafi, nie trafi może być operacja LUT.\n",
    "  - Technika polega na zakodowaniu wyników wszystkich interesujących  konfiguracji, a następnie podczas przetwarzania wykorzystania operacji LUT.\n",
    "  - Dla otoczenia 3x3 możliwe jest 512 różnych konfiguracji.\n",
    "  - Aby praktycznie zrealizować operacje, każdej konfiguracji należy nadać unikalny indeks. Jedną z możliwości jest pomnożenie elementu strukturalnego przez macierz (mnożenie odpowiednich elementów):\n",
    "  ```\n",
    "  [[1, 8,  64],\n",
    "   [ 2, 16, 128],\n",
    "   [ 4, 32, 256]]\n",
    "  ```\n",
    "  Przykładowo elementowi:\n",
    "  ```\n",
    "  [[1, 1, 0],\n",
    "   [ 1, 0, 1],\n",
    "   [ 1, 0, 1]]\n",
    "  ```\n",
    "  odpowiada liczba: 1(1) + 2(1) + 4(1) + 8(1) + 128(1) + 256(1) = 399.\n",
    "  \n",
    "### Przykład działania metody – detekcja punktów końcowych na obrazie.\n",
    "  - założenie: punkt końcowy to punkt, który ma dokładnie jednego sąsiada,\n",
    "  - zdefiniuj funkcję, która jako argument pobiera otoczenie, a zwraca 0 lub 1 w zależności od tego, czy rozpatrywany punkt jest końcowy np. dla sąsiedztwa 3×3 punkt będzie końcowy, jeżeli jest zapalony i ma tylko jednego sąsiada (czyli suma pikseli jest równa 2).\n",
    "  - wygeneruj przekodowanie LUT.\n",
    "  - wczytaj obraz szkielet.bmp (należy go przekształcić, aby uzyskać dwuwymiarową tablicę o wartościach 0-1). Wykorzystując wygenerowane przekodowanie LUT wykonaj detekcję zakończeń. Wyświetl obraz oryginalny i po przekodowaniu LUT.\n",
    "\n",
    "### Gra w życie\n",
    "\n",
    "Reguły gry w życie:\n",
    "  - każdy piksel biały, który ma dwóch lub trzech sąsiadów (białych) przeżywa,\n",
    "  - każdy piksel biały, który ma 0,1 lub więcej niż trzech sąsiadów (białych) nie przeżywa (głód lub przeludnienie),\n",
    "  - jeżeli jakieś pole (czarne) sąsiaduje dokładnie z trzema pikselami białymi, to na tym polu ,,rodzi'' się nowy piksel biały.\n",
    "\n",
    "Zadanie:\n",
    "  - za pomocą mechanizmu LUT (opisanego wcześniej) należy zaimplementować morfologiczną gre w życie,\n",
    "  - najważniejszym elementem jest funkcja opisująca reguły gry,\n",
    "  - symulacje należny przeprowadzić dla plansz dostarczonych w pliku gra.py,\n",
    "  - dobrze jest wykonać kilka iteracji – zobaczyć jak zmienia się kształt,\n",
    "  - inne ciekawe kształty do znalezienia w internecie.\n"
   ]
  },
  {
   "cell_type": "code",
   "execution_count": 66,
   "metadata": {
    "pycharm": {
     "name": "#%%\n"
    }
   },
   "outputs": [],
   "source": [
    "import matplotlib.pyplot as plt\n",
    "import cv2\n",
    "import numpy as np\n",
    "import os"
   ]
  },
  {
   "cell_type": "code",
   "execution_count": 67,
   "outputs": [],
   "source": [
    "def count_bits(n):\n",
    "    count = 0\n",
    "    while n:\n",
    "        n = n & (n - 1)\n",
    "        count += 1\n",
    "    return count\n",
    "\n",
    "lut = np.zeros(512)\n",
    "for i in range(0b1000000000):\n",
    "    if i & 0b10000:\n",
    "        if count_bits(i) == 2:\n",
    "            lut[i] = 1\n",
    "    else:\n",
    "        lut[i] = 0\n",
    "\n",
    "def lut_check(surrounding):\n",
    "    matrix = np.array([[1,8,64], [2,16,128], [4,32,256]])\n",
    "    surrounding = surrounding / 255\n",
    "    surrounding = surrounding.astype(bool)\n",
    "\n",
    "    pixel = np.sum(matrix, where=surrounding)\n",
    "\n",
    "    return lut[int(pixel)]\n",
    "\n",
    "def end_points(image):\n",
    "    x,y = I_szkielet.shape\n",
    "    result = np.zeros((x, y))\n",
    "\n",
    "    for i in range(1, x-1):\n",
    "        for j in range(1, y-1):\n",
    "            oto = image[i-1:i+2, j-1:j+2]\n",
    "            piksel = lut_check(oto)\n",
    "            result[i, j] = piksel\n",
    "\n",
    "    return result\n"
   ],
   "metadata": {
    "collapsed": false,
    "pycharm": {
     "name": "#%%\n"
    }
   }
  },
  {
   "cell_type": "code",
   "execution_count": 68,
   "outputs": [
    {
     "data": {
      "text/plain": "<Figure size 720x360 with 2 Axes>",
      "image/png": "[encoded data removed]"
     },
     "metadata": {
      "needs_background": "light"
     },
     "output_type": "display_data"
    }
   ],
   "source": [
    "I_szkielet = cv2.imread('szkielet.bmp', cv2.IMREAD_GRAYSCALE)\n",
    "\n",
    "f, axs = plt.subplots(1,2, figsize=(10, 5))\n",
    "f.set_size_inches(10,5)\n",
    "axs[0].imshow(I_szkielet, 'gray')\n",
    "axs[0].axis('off')\n",
    "axs[0].set_title('Oryginalny')\n",
    "axs[1].imshow(end_points(I_szkielet), 'gray')\n",
    "axs[1].axis('off')\n",
    "axs[1].set_title('Punkty końcowe')\n",
    "plt.show()"
   ],
   "metadata": {
    "collapsed": false,
    "pycharm": {
     "name": "#%%\n"
    }
   }
  },
  {
   "cell_type": "code",
   "execution_count": 69,
   "outputs": [],
   "source": [
    "lut_game = np.zeros(512)\n",
    "for i in range(512):\n",
    "  if i & 0b10000:\n",
    "    if count_bits(i) == 3 or count_bits(i) == 4:\n",
    "      lut_game[i] = 1\n",
    "\n",
    "  elif count_bits(i) == 3:\n",
    "    lut_game[i] = 1\n",
    "\n",
    "def is_point_alive(surrounding, recode):\n",
    "    matrix = np.array([[1,8,64], [2,16,128], [4,32,256]])\n",
    "    surrounding = surrounding.astype(bool)\n",
    "    pixel = np.sum(matrix, where=surrounding)\n",
    "\n",
    "    return recode[int(pixel)]"
   ],
   "metadata": {
    "collapsed": false,
    "pycharm": {
     "name": "#%%\n"
    }
   }
  },
  {
   "cell_type": "code",
   "execution_count": 70,
   "outputs": [],
   "source": [
    "plansza1 = np.array([\n",
    "    [0,\t0,\t0,\t0,\t0,\t0,\t0,\t0,\t0,\t0],\n",
    "    [0,\t0,\t0,\t0,\t0,\t0,\t0,\t0,\t0,\t0],\n",
    "    [0,\t0,\t0,\t1,\t0,\t0,\t1,\t0,\t0,\t0],\n",
    "    [0,\t0,\t0,\t1,\t1,\t1,\t1,\t0,\t0,\t0],\n",
    "    [0,\t0,\t1,\t0,\t0,\t0,\t0,\t1,\t0,\t0],\n",
    "    [0,\t0,\t1,\t0,\t1,\t1,\t0,\t1,\t0,\t0],\n",
    "    [0,\t0,\t1,\t0,\t0,\t0,\t0,\t1,\t0,\t0],\n",
    "    [0,\t0,\t0,\t1,\t1,\t1,\t1,\t0,\t0,\t0],\n",
    "    [0,\t0,\t0,\t0,\t0,\t0,\t0,\t0,\t0,\t0],\n",
    "    [0,\t0,\t0,\t0,\t0,\t0,\t0,\t0,\t0,\t0]], np.uint8)\n",
    "\n",
    "plansza2 = np.array([\n",
    "    [0,\t1,\t0,\t0,\t0,\t0,\t0,\t0,\t0,\t0,\t0,\t0,\t0,\t0,\t1,\t1],\n",
    "    [0,\t0,\t1,\t0,\t0,\t0,\t0,\t0,\t0,\t0,\t0,\t0,\t0,\t0,\t1,\t1],\n",
    "    [1,\t1,\t1,\t0,\t0,\t0,\t0,\t0,\t0,\t0,\t0,\t0,\t0,\t0,\t0,\t0],\n",
    "    [0,\t0,\t0,\t0,\t0,\t0,\t0,\t0,\t0,\t0,\t0,\t0,\t0,\t0,\t0,\t0],\n",
    "    [0,\t0,\t0,\t0,\t0,\t0,\t0,\t0,\t0,\t0,\t0,\t0,\t0,\t0,\t0,\t0],\n",
    "    [0,\t0,\t0,\t0,\t0,\t0,\t0,\t0,\t0,\t0,\t0,\t0,\t0,\t0,\t0,\t0],\n",
    "    [0,\t0,\t0,\t0,\t0,\t0,\t0,\t0,\t0,\t0,\t0,\t0,\t0,\t0,\t0,\t0],\n",
    "    [0,\t0,\t0,\t0,\t0,\t0,\t0,\t0,\t0,\t0,\t0,\t0,\t0,\t0,\t0,\t0],\n",
    "    [0,\t0,\t0,\t0,\t0,\t0,\t0,\t0,\t0,\t0,\t0,\t0,\t0,\t0,\t0,\t0],\n",
    "    [0,\t0,\t0,\t0,\t0,\t0,\t0,\t0,\t0,\t0,\t0,\t0,\t0,\t0,\t0,\t0],\n",
    "    [0,\t0,\t0,\t0,\t0,\t0,\t0,\t0,\t0,\t0,\t0,\t0,\t0,\t0,\t0,\t0],\n",
    "    [0,\t0,\t0,\t0,\t0,\t0,\t0,\t0,\t0,\t0,\t0,\t0,\t0,\t0,\t0,\t0],\n",
    "    [0,\t0,\t0,\t0,\t0,\t0,\t0,\t0,\t0,\t0,\t0,\t0,\t0,\t0,\t0,\t0]], np.uint8)"
   ],
   "metadata": {
    "collapsed": false,
    "pycharm": {
     "name": "#%%\n"
    }
   }
  },
  {
   "cell_type": "code",
   "execution_count": 81,
   "outputs": [
    {
     "data": {
      "text/plain": "<Figure size 2880x360 with 9 Axes>",
      "image/png": "[encoded data removed]"
     },
     "metadata": {
      "needs_background": "light"
     },
     "output_type": "display_data"
    }
   ],
   "source": [
    "iteration = 8\n",
    "x, y = plansza1.shape\n",
    "field = np.zeros((x+2, y+2))\n",
    "field[1:-1,1:-1] = plansza1\n",
    "new_field = field.copy()\n",
    "\n",
    "figure, axis = plt.subplots(1, iteration + 1, figsize=(5*iteration, 5))\n",
    "axis[0].imshow(plansza1, 'gray')\n",
    "axis[0].axis('off')\n",
    "\n",
    "for iteration in range(iteration):\n",
    "    new = np.zeros((x, y))\n",
    "\n",
    "    for i in range(1, x + 1):\n",
    "        for j in range(1, y + 1):\n",
    "            surrounding = field[i-1:i+2, j-1:j+2]\n",
    "            pixel = is_point_alive(surrounding, lut_game)\n",
    "            new_field[i, j] = pixel\n",
    "\n",
    "    axis[iteration + 1].imshow(new_field, 'gray')\n",
    "    axis[iteration + 1].axis('off')\n",
    "    field = new_field.copy()\n",
    "\n",
    "plt.show()\n"
   ],
   "metadata": {
    "collapsed": false,
    "pycharm": {
     "name": "#%%\n"
    }
   }
  },
  {
   "cell_type": "code",
   "execution_count": 84,
   "outputs": [
    {
     "data": {
      "text/plain": "<Figure size 2880x360 with 9 Axes>",
      "image/png": "[encoded data removed]"
     },
     "metadata": {
      "needs_background": "light"
     },
     "output_type": "display_data"
    }
   ],
   "source": [
    "iteration = 8\n",
    "x, y = plansza2.shape\n",
    "field = np.zeros((x+2, y+2))\n",
    "field[1:-1,1:-1] = plansza2\n",
    "new_field = field.copy()\n",
    "\n",
    "figure, axis = plt.subplots(1, iteration + 1, figsize=(5*iteration, 5))\n",
    "axis[0].imshow(plansza2, 'gray')\n",
    "axis[0].axis('off')\n",
    "\n",
    "for iteration in range(iteration):\n",
    "    new = np.zeros((x, y))\n",
    "\n",
    "    for i in range(1, x + 1):\n",
    "        for j in range(1, y + 1):\n",
    "            surrounding = field[i-1:i+2, j-1:j+2]\n",
    "            pixel = is_point_alive(surrounding, lut_game)\n",
    "            new_field[i, j] = pixel\n",
    "\n",
    "    axis[iteration + 1].imshow(new_field, 'gray')\n",
    "    axis[iteration + 1].axis('off')\n",
    "    field = new_field.copy()\n",
    "\n",
    "plt.show()"
   ],
   "metadata": {
    "collapsed": false,
    "pycharm": {
     "name": "#%%\n"
    }
   }
  }
 ],
 "metadata": {
  "celltoolbar": "Raw Cell Format",
  "kernelspec": {
   "display_name": "Python 3",
   "language": "python",
   "name": "python3"
  },
  "language_info": {
   "codemirror_mode": {
    "name": "ipython",
    "version": 3
   },
   "file_extension": ".py",
   "mimetype": "text/x-python",
   "name": "python",
   "nbconvert_exporter": "python",
   "pygments_lexer": "ipython3",
   "version": "3.9.0"
  }
 },
 "nbformat": 4,
 "nbformat_minor": 4
}