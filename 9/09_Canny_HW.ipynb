{
 "cells": [
  {
   "cell_type": "markdown",
   "source": [
    "## Zadanie domowe - Algorytm Canny'ego\n",
    "\n",
    "Celem zadania domowego jest wykonanie pełnej implementacji algorytmu Canny'ego.\n",
    "\n",
    "W ramach ćwiczenia w trakcie laboratorium wyznaczono obrazy $g_{NH}$ i $g_{NL}$.\n",
    "Dla przypomnienia:\n",
    "Można powiedzieć, że na obrazie $g_{NH}$ są \"pewne\" krawędzie.\n",
    "Natomiast na $g_{NL}$ \"potencjalne\".\n",
    "Często krawędzie \"pewne\" nie są ciągłe.\n",
    "Wykorzystuje się więc krawędzie \"potencjalne\", aby uzupełnić nieciągłości.\n",
    "Procedura wygląda następująco:\n",
    "1. Stwórz stos zawierający wszystkie piksele zaznaczone na obrazie $g_{NH}$.\n",
    "W tym celu wykorzystaj listę współrzędnych `[row, col]`.\n",
    "Do pobrania elementu z początku służy metoda `list.pop()`.\n",
    "Do dodania elementu na koniec listy służy metoda `list.append(new)`.\n",
    "2. Stwórz obraz, który będzie zawierał informację czy dany piksel został już odwiedzony.\n",
    "3. Stwórz obraz, który zawierać będzie wynikowe krawędzie.\n",
    "Jej rozmiar jest równy rozmiarowi obrazu.\n",
    "4. Wykonaj pętlę, która będzie pobierać elementy z listy, dopóki ta nie będzie pusta.\n",
    "W tym celu najlepiej sprawdzi się pętla `while`.\n",
    "    - W każdej iteracji pobierz element ze stosu.\n",
    "    - Sprawdź, czy dany element został już odwiedzony.\n",
    "    - Jeśli nie został, to:\n",
    "        - Oznacz go jako odwiedzony,\n",
    "        - Oznacz piksel jako krawędź w wyniku,\n",
    "        - Sprawdź otoczenie piksela w obrazie $g_{NL}$,\n",
    "        - Dodaj do stosu współrzędne otoczenia, które zawierają krawędź.\n",
    "        Można to wykonać np. pętlą po stworzonym otoczeniu.\n",
    "7. Wyświetl obraz oryginalny, obraz $g_{NH}$ oraz obraz wynikowy.\n",
    "8. Porównaj wynik algorytmu z wynikiem OpenCV.\n",
    "\n",
    "Pomocnicze obrazy $g_{NH}$ i $g_{NL}$ zostały wprowadzone dla uproszczenia opisu.\n",
    "Algorytm można zaimplementować w bardziej \"zwarty\" sposób.\n",
    "\n",
    "Na podstawie powyższego opisu zaimplementuj pełny algorytm Canny'ego."
   ],
   "metadata": {
    "collapsed": false,
    "pycharm": {
     "name": "#%% md\n"
    }
   }
  },
  {
   "cell_type": "code",
   "execution_count": 11,
   "outputs": [
    {
     "data": {
      "text/plain": "<Figure size 432x288 with 1 Axes>",
      "image/png": "[encoded data removed]"
     },
     "metadata": {
      "needs_background": "light"
     },
     "output_type": "display_data"
    }
   ],
   "source": [
    "import cv2\n",
    "from matplotlib import pyplot as plt\n",
    "import numpy as np\n",
    "import math\n",
    "import os\n",
    "\n",
    "def nomax(alpha, magnitude):\n",
    "    x, y = alpha.shape\n",
    "    maximums = np.zeros((x, y))\n",
    "\n",
    "    for i in range(1, x - 1):\n",
    "        for j in range(1, y - 1):\n",
    "            if (-22.5 < alpha[i, j] < 22.5) or (-157.5 > alpha[i, j] > 157.5):\n",
    "                if not (magnitude[i, j + 1] > magnitude[i, j] or magnitude[i, j - 1] > magnitude[i, j]):\n",
    "                    maximums[i, j] = magnitude[i, j]\n",
    "\n",
    "            elif (67.5 < alpha[i, j] < 112.5) or (-112.5 < alpha[i, j] < -67.5):\n",
    "                if not (magnitude[i + 1, j] > magnitude[i, j] or magnitude[i - 1, j] > magnitude[i, j]):\n",
    "                    maximums[i,j] = magnitude[i,j]\n",
    "\n",
    "            elif (22.5 < alpha[i, j] < 67.5) or (-157.5 < alpha[i, j] < -112.5):\n",
    "                if not (magnitude[i + 1, j + 1] > magnitude[i, j] or magnitude[i - 1, j - 1] > magnitude[i, j]):\n",
    "                    maximums[i, j] = magnitude[i, j]\n",
    "\n",
    "            elif (112.5 < alpha[i, j] < 157.5) or (-67.5 < alpha[i, j] < -22.5):\n",
    "                if not (magnitude[i - 1, j + 1] > magnitude[i, j] or magnitude[i + 1, j - 1] > magnitude[i, j]):\n",
    "                    maximums[i, j] = magnitude[i, j]\n",
    "\n",
    "    return maximums\n",
    "\n",
    "def canny(image, TL=60, TH=120, window_size = 3, sigma = 1):\n",
    "    sobel_horizontal = np.array([[1,2,1],\n",
    "                                [0,0,0],\n",
    "                                [-1,-2,-1]])\n",
    "    sobel_vertical = np.array([[-1, 0, 1],\n",
    "                                [-2, 0, 2],\n",
    "                                [-1, 0, 1]])\n",
    "\n",
    "    image_gauss = cv2.GaussianBlur(image, (window_size, window_size), sigma)\n",
    "\n",
    "    gx = cv2.filter2D(image_gauss, -1, sobel_vertical)\n",
    "    gy = cv2.filter2D(image_gauss, -1, sobel_horizontal)\n",
    "\n",
    "    magnitude = np.hypot(gx, gy)\n",
    "    magnitude = magnitude / magnitude.max() * 255\n",
    "\n",
    "    alpha = np.rad2deg(np.arctan2(gy, gx))\n",
    "\n",
    "    maximums = nomax(alpha, magnitude)\n",
    "\n",
    "    gN = maximums\n",
    "    gNH = gN >= TH\n",
    "    gNL = (TH > gN) & (gN >= TL)\n",
    "\n",
    "    X,Y = image.shape\n",
    "\n",
    "    coordinates_list =[]\n",
    "\n",
    "    for i in range(1, X - 1):\n",
    "        for j in range(1, Y - 1):\n",
    "            if gNH[i, j] == 1:\n",
    "                coordinates_list.append([i,j])\n",
    "\n",
    "    visited = np.zeros(image.shape)\n",
    "    edges  = np.zeros(image.shape)\n",
    "\n",
    "    while coordinates_list:\n",
    "        element = coordinates_list.pop()\n",
    "        x = element[0]\n",
    "        y = element[1]\n",
    "\n",
    "        if visited[x,y] == 0:\n",
    "            visited[x,y] = 1\n",
    "            edges[x,y] = 1\n",
    "\n",
    "            for k in range(x-1,x+2):\n",
    "                for v in range(y-1,y+2):\n",
    "                    if gNL[k, v] == 1:\n",
    "                        coordinates_list.append([k,v])\n",
    "    return edges\n",
    "\n",
    "if not os.path.exists(\"dom.png\") :\n",
    "    !wget https://raw.githubusercontent.com/vision-agh/poc_sw/master/09_Canny/dom.png --no-check-certificate\n",
    "\n",
    "I_dom = cv2.imread('dom.png', cv2.IMREAD_GRAYSCALE)\n",
    "\n",
    "plt.imshow(canny(I_dom, 40, 120, 3, 1))\n",
    "plt.axis('off')\n",
    "plt.show()"
   ],
   "metadata": {
    "collapsed": false,
    "pycharm": {
     "name": "#%% Zadanie domowe - Canny\n"
    }
   }
  }
 ],
 "metadata": {
  "kernelspec": {
   "display_name": "Python 3",
   "language": "python",
   "name": "python3"
  },
  "language_info": {
   "codemirror_mode": {
    "name": "ipython",
    "version": 3
   },
   "file_extension": ".py",
   "mimetype": "text/x-python",
   "name": "python",
   "nbconvert_exporter": "python",
   "pygments_lexer": "ipython3",
   "version": "3.8.3"
  }
 },
 "nbformat": 4,
 "nbformat_minor": 4
}